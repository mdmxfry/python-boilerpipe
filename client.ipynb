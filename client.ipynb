{
 "cells": [
  {
   "cell_type": "markdown",
   "metadata": {},
   "source": [
    "## How to use\n",
    "To use [boilerpipe](https://boilerpipe-web.appspot.com/) API you can make request via any HTTP framework. In examples below it's python and requests\n"
   ]
  },
  {
   "cell_type": "code",
   "execution_count": 16,
   "metadata": {},
   "outputs": [],
   "source": [
    "import json\n",
    "import requests \n",
    "\n",
    "SERVER_IP = 'localhost'\n",
    "SERVER_PORT = '8080'\n",
    "TARGET_URL = 'https://www.bbc.com/news/uk-politics-47796377'"
   ]
  },
  {
   "cell_type": "markdown",
   "metadata": {},
   "source": [
    "### Example 1: Extract article from bbc with default ArticleExtactor\n",
    "In this example, API is used to extract article from bbc.com website."
   ]
  },
  {
   "cell_type": "code",
   "execution_count": null,
   "metadata": {
    "scrolled": false
   },
   "outputs": [],
   "source": [
    "resp = requests.get('http://{}:{}/extractText?url={}'.format(SERVER_IP, SERVER_PORT, TARGET_URL))\n",
    "resp_dict = json.loads(resp.text)\n",
    "# At this point resp_dict looks like\n",
    "# {'url': 'https://www.bbc.com/...', 'extractedText': 'Brexit deadlock: The Commons in numbers ...'}\n",
    "\n",
    "print('URL={url}\\n\\nExtractedText:\\n{extractedText}'.format(**resp_dict))"
   ]
  },
  {
   "cell_type": "markdown",
   "metadata": {},
   "source": [
    "### Example 2: Extract article in HTML from bcc with KeepEverythingExtractor"
   ]
  },
  {
   "cell_type": "code",
   "execution_count": null,
   "metadata": {
    "scrolled": true
   },
   "outputs": [],
   "source": [
    "extractor = 'KeepEverythingExtractor'\n",
    "resp = requests.get('http://{}:{}/extractHTML?url={}&extractor={}'.format(SERVER_IP, SERVER_PORT, TARGET_URL, extractor))\n",
    "resp_dict = json.loads(resp.text)\n",
    "# At this point resp_dict looks like\n",
    "# {'url': 'https://www.bbc.com/...', 'extractedHTML': '<HTML lang=\"en\" id=\"responsive-news\"> ...'}\n",
    "\n",
    "print('URL={url}\\n\\extractedHTML:\\n{extractedHTML}'.format(**resp_dict))"
   ]
  },
  {
   "cell_type": "markdown",
   "metadata": {},
   "source": [
    "#### HTML block below is used to align tables in this notebook to the left"
   ]
  },
  {
   "cell_type": "code",
   "execution_count": 17,
   "metadata": {},
   "outputs": [
    {
     "data": {
      "text/html": [
       "<style>\n",
       "table {align:left; display:block}\n",
       "</style>"
      ],
      "text/plain": [
       "<IPython.core.display.HTML object>"
      ]
     },
     "metadata": {},
     "output_type": "display_data"
    }
   ],
   "source": [
    "%%html\n",
    "<style>\n",
    "table {align:left; display:block}\n",
    "</style>"
   ]
  },
  {
   "cell_type": "markdown",
   "metadata": {},
   "source": [
    "### Methods\n",
    "\n",
    "Right now, next 2 methods are available: \n",
    "\n",
    "| Method | Description  |\n",
    "|:---|---|\n",
    "|``extractText``| Retrieve Plain Text using chosen extractor|\n",
    "|``extractHTML``| Retrieve HTML using chosen extractor | \n",
    "\n",
    "**Resonse will be given in the next format**:\n",
    "\n",
    "``extractText`` will return **JSON** with next keywords: ``url`` and ``extractedText``\n",
    "\n",
    "``extractHTML `` will return **JSON** with next keywords: ``url`` and ``extractedHTML ``\n",
    "\n",
    "\n",
    "### Arguments\n",
    "\n",
    "| Argument | Description  |\n",
    "|:---|---|\n",
    "|  url  |  The url of the website to apply extractor |\n",
    "| extractor | Type of the extractor to be used  |\n",
    "\n",
    "### Extractors\n",
    "\n",
    "Only extractors that are listed below could be used with this API:\n",
    "\n",
    "- ``DefaultExtractor``\n",
    "- ``ArticleExtractor``\n",
    "- ``ArticleSentencesExtractor``\n",
    "- ``KeepEverythingExtractor``\n",
    "- ``KeepEverythingWithMinKWordsExtractor``\n",
    "- ``LargestContentExtractor``\n",
    "- ``NumWordsRulesExtractor``\n",
    "- ``CanolaExtractor``\n",
    "\n",
    "To read more about extractors, please visit: \n",
    "[https://boilerpipe-web.appspot.com/](https://boilerpipe-web.appspot.com/)\n",
    "\n"
   ]
  },
  {
   "cell_type": "code",
   "execution_count": null,
   "metadata": {},
   "outputs": [],
   "source": []
  }
 ],
 "metadata": {
  "kernelspec": {
   "display_name": "Python 3",
   "language": "python",
   "name": "python3"
  },
  "language_info": {
   "codemirror_mode": {
    "name": "ipython",
    "version": 3
   },
   "file_extension": ".py",
   "mimetype": "text/x-python",
   "name": "python",
   "nbconvert_exporter": "python",
   "pygments_lexer": "ipython3",
   "version": "3.6.5"
  }
 },
 "nbformat": 4,
 "nbformat_minor": 2
}
